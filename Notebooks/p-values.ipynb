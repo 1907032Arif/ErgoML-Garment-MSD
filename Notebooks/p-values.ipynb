{
 "cells": [
  {
   "cell_type": "code",
   "execution_count": 1,
   "id": "bb73fc27",
   "metadata": {},
   "outputs": [
    {
     "name": "stderr",
     "output_type": "stream",
     "text": [
      "C:\\Users\\user\\anaconda3\\Lib\\site-packages\\sklearn\\preprocessing\\_encoders.py:972: FutureWarning: `sparse` was renamed to `sparse_output` in version 1.2 and will be removed in 1.4. `sparse_output` is ignored unless you leave `sparse` to its default value.\n",
      "  warnings.warn(\n",
      "C:\\Users\\user\\anaconda3\\Lib\\site-packages\\statsmodels\\base\\model.py:607: ConvergenceWarning: Maximum Likelihood optimization failed to converge. Check mle_retvals\n",
      "  warnings.warn(\"Maximum Likelihood optimization failed to \"\n",
      "C:\\Users\\user\\anaconda3\\Lib\\site-packages\\statsmodels\\discrete\\discrete_model.py:2383: RuntimeWarning: overflow encountered in exp\n",
      "  return 1/(1+np.exp(-X))\n",
      "C:\\Users\\user\\anaconda3\\Lib\\site-packages\\statsmodels\\discrete\\discrete_model.py:2441: RuntimeWarning: divide by zero encountered in log\n",
      "  return np.sum(np.log(self.cdf(q * linpred)))\n",
      "C:\\Users\\user\\anaconda3\\Lib\\site-packages\\statsmodels\\base\\model.py:607: ConvergenceWarning: Maximum Likelihood optimization failed to converge. Check mle_retvals\n",
      "  warnings.warn(\"Maximum Likelihood optimization failed to \"\n",
      "C:\\Users\\user\\anaconda3\\Lib\\site-packages\\statsmodels\\base\\model.py:607: ConvergenceWarning: Maximum Likelihood optimization failed to converge. Check mle_retvals\n",
      "  warnings.warn(\"Maximum Likelihood optimization failed to \"\n",
      "C:\\Users\\user\\anaconda3\\Lib\\site-packages\\statsmodels\\base\\model.py:607: ConvergenceWarning: Maximum Likelihood optimization failed to converge. Check mle_retvals\n",
      "  warnings.warn(\"Maximum Likelihood optimization failed to \"\n",
      "C:\\Users\\user\\anaconda3\\Lib\\site-packages\\statsmodels\\base\\model.py:607: ConvergenceWarning: Maximum Likelihood optimization failed to converge. Check mle_retvals\n",
      "  warnings.warn(\"Maximum Likelihood optimization failed to \"\n",
      "C:\\Users\\user\\anaconda3\\Lib\\site-packages\\statsmodels\\base\\model.py:607: ConvergenceWarning: Maximum Likelihood optimization failed to converge. Check mle_retvals\n",
      "  warnings.warn(\"Maximum Likelihood optimization failed to \"\n",
      "C:\\Users\\user\\anaconda3\\Lib\\site-packages\\statsmodels\\base\\model.py:607: ConvergenceWarning: Maximum Likelihood optimization failed to converge. Check mle_retvals\n",
      "  warnings.warn(\"Maximum Likelihood optimization failed to \"\n"
     ]
    },
    {
     "name": "stdout",
     "output_type": "stream",
     "text": [
      "P-values saved to 'Logistic_Regression_P_Values_Filtered.xlsx'\n"
     ]
    }
   ],
   "source": [
    "import pandas as pd\n",
    "import numpy as np\n",
    "import statsmodels.api as sm\n",
    "from sklearn.preprocessing import OneHotEncoder\n",
    "from statsmodels.stats.outliers_influence import variance_inflation_factor\n",
    "\n",
    "# 1. Load data\n",
    "df = pd.read_excel(\"MSDs Risk - Data.xlsx\", sheet_name=\"Sheet1\")\n",
    "\n",
    "# 2. Define predictor and outcome columns\n",
    "predictor_cols = [\n",
    "    \"Age\", \"Gender\", \"Height (cm)\", \"Weight (kg)\", \"BMI\", \n",
    "    \"Medical History\", \"Smoking Habits\", \"Alcohol Consumption\", \n",
    "    \"Physical Exercise\", \"Job Tenure (years)\", \"Working Days/Week\", \n",
    "    \"Work Duration (hrs/day)\", \"Work Breaks (hrs/day)\", \n",
    "    \"Table Height (cm)\", \"Sitting Height (cm)\"\n",
    "]\n",
    "outcome_vars = [\n",
    "    \"Neck Pain\", \"Shoulder Pain\", \"Upper Back Pain \", \n",
    "    \"Lower Back Pain \", \"Elbow Pain\", \"Wrist/Hand Pain\", \n",
    "    \"Hips/Thighs Pain\", \"Knees Pain\", \"Ankles/Feet Pain\"\n",
    "]\n",
    "\n",
    "# 3. One-hot encode categorical variables\n",
    "cat_cols = [\"Gender\", \"Medical History\", \"Smoking Habits\", \n",
    "            \"Alcohol Consumption\", \"Physical Exercise\"]\n",
    "num_cols = [c for c in predictor_cols if c not in cat_cols]\n",
    "\n",
    "encoder = OneHotEncoder(drop=\"first\", sparse=False)\n",
    "X_cat = encoder.fit_transform(df[cat_cols])\n",
    "cat_feature_names = encoder.get_feature_names_out(cat_cols)\n",
    "X_num = df[num_cols].to_numpy()\n",
    "X_full = np.hstack([X_num, X_cat])\n",
    "feature_names = num_cols + list(cat_feature_names)\n",
    "\n",
    "# 4. Calculate VIF and filter features\n",
    "X_df_no_const = pd.DataFrame(X_full, columns=feature_names)\n",
    "vif_data = pd.DataFrame()\n",
    "vif_data[\"feature\"] = X_df_no_const.columns\n",
    "vif_data[\"VIF\"] = [variance_inflation_factor(X_df_no_const.values, i) for i in range(X_df_no_const.shape[1])]\n",
    "selected_features = vif_data[vif_data[\"VIF\"] < 10][\"feature\"].tolist()\n",
    "\n",
    "# 5. Build filtered design matrix with constant\n",
    "X_filtered_df = sm.add_constant(X_df_no_const[selected_features])\n",
    "\n",
    "# 6. Run logistic regression for each outcome and extract p-values\n",
    "pval_df = pd.DataFrame(index=[\"const\"] + selected_features, columns=outcome_vars)\n",
    "\n",
    "for outcome in outcome_vars:\n",
    "    y = df[outcome].map({\"Yes\": 1, \"No\": 0})\n",
    "    try:\n",
    "        model = sm.Logit(y, X_filtered_df)\n",
    "        result = model.fit(disp=0)\n",
    "        pval_df[outcome] = result.pvalues\n",
    "    except Exception:\n",
    "        pval_df[outcome] = np.nan  # Handle cases where model fails to converge\n",
    "\n",
    "# 7. Save results\n",
    "pval_df.to_excel(\"Logistic_Regression_P_Values_Filtered.xlsx\")\n",
    "print(\"P-values saved to 'Logistic_Regression_P_Values_Filtered.xlsx'\")\n"
   ]
  },
  {
   "cell_type": "code",
   "execution_count": null,
   "id": "fa9df279",
   "metadata": {},
   "outputs": [],
   "source": []
  }
 ],
 "metadata": {
  "kernelspec": {
   "display_name": "Python 3 (ipykernel)",
   "language": "python",
   "name": "python3"
  },
  "language_info": {
   "codemirror_mode": {
    "name": "ipython",
    "version": 3
   },
   "file_extension": ".py",
   "mimetype": "text/x-python",
   "name": "python",
   "nbconvert_exporter": "python",
   "pygments_lexer": "ipython3",
   "version": "3.11.5"
  }
 },
 "nbformat": 4,
 "nbformat_minor": 5
}
